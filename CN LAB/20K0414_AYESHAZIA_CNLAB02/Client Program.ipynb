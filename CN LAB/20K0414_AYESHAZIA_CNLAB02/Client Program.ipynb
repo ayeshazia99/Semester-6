{
 "cells": [
  {
   "cell_type": "code",
   "execution_count": null,
   "id": "5875e215",
   "metadata": {},
   "outputs": [],
   "source": [
    "import socket\n",
    "\n",
    "\n",
    "def client():\n",
    "    host = socket.gethostname()  \n",
    "    port = 1000  \n",
    "    #initiate client socket\n",
    "    csocket = socket.socket()  \n",
    "    #establishing connection to server\n",
    "    csocket.connect((host, port))  \n",
    "    text = input('Enter your message:')  \n",
    "    while text.lower().strip() != 'end':\n",
    "        csocket.send(text.encode())  \n",
    "        data = csocket.recv(1025).decode() \n",
    "        print('Text received: ' + data)  \n",
    "    text = input('Enter your message:')  \n",
    "    csocket.close()  \n",
    "    client_program()"
   ]
  },
  {
   "cell_type": "code",
   "execution_count": null,
   "id": "b8a9d7a9",
   "metadata": {},
   "outputs": [],
   "source": []
  }
 ],
 "metadata": {
  "kernelspec": {
   "display_name": "Python 3 (ipykernel)",
   "language": "python",
   "name": "python3"
  },
  "language_info": {
   "codemirror_mode": {
    "name": "ipython",
    "version": 3
   },
   "file_extension": ".py",
   "mimetype": "text/x-python",
   "name": "python",
   "nbconvert_exporter": "python",
   "pygments_lexer": "ipython3",
   "version": "3.11.1"
  }
 },
 "nbformat": 4,
 "nbformat_minor": 5
}
