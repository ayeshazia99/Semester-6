{
 "cells": [
  {
   "cell_type": "code",
   "execution_count": 6,
   "id": "39fba3c5",
   "metadata": {},
   "outputs": [],
   "source": [
    "import socket\n",
    "\n",
    "\n",
    "def server():\n",
    "    host = socket.gethostname()\n",
    "    port = 1000  \n",
    "    #initiate server socket\n",
    "    ssocket = socket.socket()  \n",
    "    ssocket.bind((host, port))  \n",
    "    ssocket.listen(5)\n",
    "    #establishing connection to client\n",
    "    conn, address = ssocket.accept() \n",
    "    #print IP address from where connection is received \n",
    "    print(\"IP Address of connection: \" + str(address))\n",
    "    while True:\n",
    "        data = conn.recv(1025).decode()\n",
    "        if data==0:\n",
    "            break\n",
    "        print(\"Text received: \" + str(data))\n",
    "        data = input('Enter your text:')\n",
    "        conn.send(data.encode())  \n",
    "    conn.close()  \n",
    "    server_program()"
   ]
  },
  {
   "cell_type": "code",
   "execution_count": null,
   "id": "fe932e11",
   "metadata": {},
   "outputs": [],
   "source": []
  }
 ],
 "metadata": {
  "kernelspec": {
   "display_name": "Python 3 (ipykernel)",
   "language": "python",
   "name": "python3"
  },
  "language_info": {
   "codemirror_mode": {
    "name": "ipython",
    "version": 3
   },
   "file_extension": ".py",
   "mimetype": "text/x-python",
   "name": "python",
   "nbconvert_exporter": "python",
   "pygments_lexer": "ipython3",
   "version": "3.11.1"
  }
 },
 "nbformat": 4,
 "nbformat_minor": 5
}
